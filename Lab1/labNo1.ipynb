{
 "cells": [
  {
   "cell_type": "markdown",
   "id": "50474dfc-56a5-4d40-8bc3-5eef79e4f595",
   "metadata": {},
   "source": [
    "# This is the firts Lab of UA module"
   ]
  },
  {
   "cell_type": "code",
   "execution_count": 1,
   "id": "3e1d6629-0d9f-4eee-a63a-f031bc915541",
   "metadata": {},
   "outputs": [],
   "source": [
    "x = 5"
   ]
  },
  {
   "cell_type": "code",
   "execution_count": 3,
   "id": "22faa487-b4f9-4a2d-a0aa-29213b27db42",
   "metadata": {},
   "outputs": [
    {
     "data": {
      "text/plain": [
       "5"
      ]
     },
     "execution_count": 3,
     "metadata": {},
     "output_type": "execute_result"
    }
   ],
   "source": [
    "x"
   ]
  },
  {
   "cell_type": "code",
   "execution_count": null,
   "id": "d80ac1e6-72a4-44fa-a27b-2625e6084aae",
   "metadata": {},
   "outputs": [],
   "source": []
  }
 ],
 "metadata": {
  "kernelspec": {
   "display_name": "Python 3 (ipykernel)",
   "language": "python",
   "name": "python3"
  },
  "language_info": {
   "codemirror_mode": {
    "name": "ipython",
    "version": 3
   },
   "file_extension": ".py",
   "mimetype": "text/x-python",
   "name": "python",
   "nbconvert_exporter": "python",
   "pygments_lexer": "ipython3",
   "version": "3.11.6"
  }
 },
 "nbformat": 4,
 "nbformat_minor": 5
}
