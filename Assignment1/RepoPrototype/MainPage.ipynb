{
 "cells": [
  {
   "attachments": {},
   "cell_type": "markdown",
   "id": "1965c421-c313-4e02-815e-0bbcfd039238",
   "metadata": {},
   "source": [
    "# GG4257 - Urban Analytics: A Toolkit for Sustainable Urban Development\n",
    "## Lab Assignment No 1: Handling and GeoVisualisation of Urban Data\n",
    "\n",
    "# General Information\n",
    "- **Student ID No:** [Your Student ID]\n",
    "- **Degree Programme:** [Your Degree Programme]\n",
    "- **Deadline Date:** 2 Feb 2024\n",
    "\n",
    "# GitHub Repository\n",
    "- **GitHub Link:** [Add here the link to your repo]\n",
    "\n",
    "# Declaration\n",
    "\n",
    "In submitting this assignment, I hereby confirm that I have read the University's statement on Good Academic Practice. The following work is my own. Significant academic debts and borrowings have been properly acknowledged and referenced."
   ]
  },
  {
   "cell_type": "markdown",
   "id": "64a7e45d-98a1-4c95-a8e4-eee18668ba28",
   "metadata": {},
   "source": [
    "# Table of Content\n",
    "\n",
    "1. [Introduction](#Introducction)\n",
    "    - How to Replicate the Code and Get the Required Data\n",
    "   \n",
    "2. <a href=\"lab_1/lab_1.ipynb#Lab-No-1---Python-Recap:-9-Challenges\">Lab No 1: Python Recap</a>\n",
    "   - <a href=\"lab_1/lab_1.ipynb#Challenge-No-1\">Challenge 1</a>\n",
    "   - <a href=\"lab_1/lab_1.ipynb#Challenge-No-2\">Challenge 2</a>\n",
    "   - <a href=\"lab_1/lab_1.ipynb#Challenge-No-3\">Challenge 3</a>\n",
    "   - ...\n",
    "\n",
    "3. <a href=\"lab_2/Lab_2.ipynb#Lab-No-2:-Data-Manipulation-and-Working-with-Web-Services\">Lab No 2: Data Manipulation and Working with Web Services</a>\n",
    "   - <a href=\"lab_2/Lab_2.ipynb#Challenge-No-1\">Challenge 1</a>\n",
    "   - <a href=\"lab_2/Lab_2.ipynb#Challenge-No-2\">Challenge 2</a>\n",
    "   - ...\n",
    "\n",
    "4. [Lab No 3: Geovisualization Techniques - Data Viz - Part 1](#lab3)\n",
    "    - ...\n",
    "\n",
    "8. [Lab No 4: Geovisualization Techniques - Part 2, Apps](#lab4)\n",
    "    - ... \n",
    "9. [Final Remarks](#Final-Remarks)\n",
    "    - Limitations, Barriers, and Additional Comments\n"
   ]
  },
  {
   "cell_type": "markdown",
   "id": "7651068d-19d1-4dcc-b530-a2fc98f6156c",
   "metadata": {},
   "source": [
    "# Introducction\n"
   ]
  },
  {
   "cell_type": "markdown",
   "id": "16b9c8c6-e73b-45f8-ac25-7c44070341eb",
   "metadata": {},
   "source": [
    "How to Replicate the Code and Instruccions on how to get requiered data, if needed."
   ]
  },
  {
   "cell_type": "markdown",
   "id": "566fd8f3-1901-4344-adb7-7076aa854446",
   "metadata": {},
   "source": [
    "# Final Remarks"
   ]
  },
  {
   "cell_type": "markdown",
   "id": "7d130c10-47a4-4ce2-9714-19d10afef714",
   "metadata": {},
   "source": [
    "- Limitations\n",
    "- Barriers\n",
    "- and Additional Comments"
   ]
  }
 ],
 "metadata": {
  "kernelspec": {
   "display_name": "Python 3 (ipykernel)",
   "language": "python",
   "name": "python3"
  },
  "language_info": {
   "codemirror_mode": {
    "name": "ipython",
    "version": 3
   },
   "file_extension": ".py",
   "mimetype": "text/x-python",
   "name": "python",
   "nbconvert_exporter": "python",
   "pygments_lexer": "ipython3",
   "version": "3.11.6"
  }
 },
 "nbformat": 4,
 "nbformat_minor": 5
}
