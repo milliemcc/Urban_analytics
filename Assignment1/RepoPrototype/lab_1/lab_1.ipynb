{
 "cells": [
  {
   "cell_type": "markdown",
   "id": "32aef215-abd1-42e9-b851-d44ba7a4fde0",
   "metadata": {},
   "source": [
    "# Lab No 1 - Python Recap: 9 Challenges"
   ]
  },
  {
   "cell_type": "markdown",
   "id": "848b6050-b4cc-46f8-8258-e6028b933bd2",
   "metadata": {},
   "source": [
    "# Challenge No 1"
   ]
  },
  {
   "cell_type": "code",
   "execution_count": null,
   "id": "bb2bd63f-c898-4f3c-91ee-62c107ae3864",
   "metadata": {},
   "outputs": [],
   "source": [
    "# Here is the code for challenge 1, Lab 1"
   ]
  },
  {
   "cell_type": "markdown",
   "id": "3bd2fdf7-7c7a-4cc6-a64e-0516ccd8e309",
   "metadata": {},
   "source": [
    "## Description: \n",
    "\n",
    "Each code cell should have comments that describe what the code is doing, any issues or barriers, citations, and other relevant information. Use markdown cells where you explain the problem you are addressing and how you did it (here, you can add screenshots of the final outcomes). Some challenges only require you to answer questions and provide insights. This will help the marker evaluate your understanding of the code, the outcomes, and the  problem you have solved.\n",
    "\n",
    "Screenshots:\n",
    "Add images here\n"
   ]
  },
  {
   "cell_type": "markdown",
   "id": "0e6c1433-bb38-4630-a13f-ff24fddc47b4",
   "metadata": {},
   "source": [
    "# Challenge No 2"
   ]
  },
  {
   "cell_type": "code",
   "execution_count": null,
   "id": "d022bf66-bdac-443a-b429-5465a0b8e0c9",
   "metadata": {},
   "outputs": [],
   "source": [
    "# Here is the code for challenge 2, Lab 1"
   ]
  },
  {
   "cell_type": "markdown",
   "id": "f95fb974-3004-4e99-8802-7b1765d19f87",
   "metadata": {},
   "source": [
    "## Description: \n",
    "\n",
    "Each code cell should have comments that describe what the code is doing, any issues or barriers, citations, and other relevant information. Additionally, use markdown cells where you explain the problem you are addressing and how you did it (here, you can add screenshots of the final outcomes). Some challenges only require you to answer questions and provide insights. This will help the marker evaluate your understanding of the code, the outcomes, and the  problem you have solved."
   ]
  },
  {
   "cell_type": "markdown",
   "id": "c58eeb54-0805-44c4-8ee1-75f04da1a836",
   "metadata": {},
   "source": [
    "# Challenge No 3"
   ]
  },
  {
   "cell_type": "code",
   "execution_count": 1,
   "id": "4313b0dc-57f9-4cd9-bfea-2ac25df9325a",
   "metadata": {},
   "outputs": [],
   "source": [
    "# Here is the code for challenge 3, Lab 1"
   ]
  },
  {
   "cell_type": "markdown",
   "id": "45db656a-7086-4890-a219-72160b0ea677",
   "metadata": {},
   "source": [
    "## Description: \n",
    "\n",
    "Each code cell should have comments that describe what the code is doing, any issues or barriers, citations, and other relevant information. Additionally, use markdown cells where you explain the problem you are addressing and how you did it (here, you can add screenshots of the final outcomes). Some challenges only require you to answer questions and provide insights. This will help the marker evaluate your understanding of the code, the outcomes, and the  problem you have solved."
   ]
  }
 ],
 "metadata": {
  "kernelspec": {
   "display_name": "Python 3 (ipykernel)",
   "language": "python",
   "name": "python3"
  },
  "language_info": {
   "codemirror_mode": {
    "name": "ipython",
    "version": 3
   },
   "file_extension": ".py",
   "mimetype": "text/x-python",
   "name": "python",
   "nbconvert_exporter": "python",
   "pygments_lexer": "ipython3",
   "version": "3.11.6"
  }
 },
 "nbformat": 4,
 "nbformat_minor": 5
}
