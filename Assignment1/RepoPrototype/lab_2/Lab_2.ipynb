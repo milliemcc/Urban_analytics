{
 "cells": [
  {
   "cell_type": "markdown",
   "id": "0d51b419-78de-406b-8c55-f061cd4b9eed",
   "metadata": {},
   "source": [
    "# Lab No 2: Data Manipulation and Working with Web Services\n",
    "\n",
    "## 2 Challenges"
   ]
  },
  {
   "cell_type": "markdown",
   "id": "848b6050-b4cc-46f8-8258-e6028b933bd2",
   "metadata": {},
   "source": [
    "# Challenge No 1"
   ]
  },
  {
   "cell_type": "code",
   "execution_count": null,
   "id": "4db5f6c4-d24c-4ab9-82b8-6c4fd5e95fa9",
   "metadata": {},
   "outputs": [],
   "source": [
    "# Here is the code for challenge 2, Lab 2"
   ]
  },
  {
   "cell_type": "markdown",
   "id": "ea4ea18d-43de-48ac-b982-762e01250f5f",
   "metadata": {},
   "source": [
    "## Description: \n",
    "\n",
    "Each code cell should have comments that describe what the code is doing, any issues or barriers, citations, and other relevant information. Additionally, use markdown cells where you explain the problem you are addressing and how you did it (here, you can add screenshots of the final outcomes). Some challenges only require you to answer questions and provide insights. This will help the marker evaluate your understanding of the code, the outcomes, and the  problem you have solved."
   ]
  },
  {
   "cell_type": "markdown",
   "id": "0e6c1433-bb38-4630-a13f-ff24fddc47b4",
   "metadata": {},
   "source": [
    "# Challenge No 2"
   ]
  },
  {
   "cell_type": "code",
   "execution_count": null,
   "id": "d022bf66-bdac-443a-b429-5465a0b8e0c9",
   "metadata": {},
   "outputs": [],
   "source": [
    "# Here is the code for challenge 2, Lab 2"
   ]
  },
  {
   "cell_type": "markdown",
   "id": "f95fb974-3004-4e99-8802-7b1765d19f87",
   "metadata": {},
   "source": [
    "## Description: \n",
    "\n",
    "Each code cell should have comments that describe what the code is doing, any issues or barriers, citations, and other relevant information. Additionally, use markdown cells where you explain the problem you are addressing and how you did it (here, you can add screenshots of the final outcomes). Some challenges only require you to answer questions and provide insights. This will help the marker evaluate your understanding of the code, the outcomes, and the  problem you have solved."
   ]
  }
 ],
 "metadata": {
  "kernelspec": {
   "display_name": "Python 3 (ipykernel)",
   "language": "python",
   "name": "python3"
  },
  "language_info": {
   "codemirror_mode": {
    "name": "ipython",
    "version": 3
   },
   "file_extension": ".py",
   "mimetype": "text/x-python",
   "name": "python",
   "nbconvert_exporter": "python",
   "pygments_lexer": "ipython3",
   "version": "3.11.6"
  }
 },
 "nbformat": 4,
 "nbformat_minor": 5
}
